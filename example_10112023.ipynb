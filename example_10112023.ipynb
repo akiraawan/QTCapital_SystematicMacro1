{
 "cells": [
  {
   "cell_type": "code",
   "execution_count": 1,
   "id": "16392b9d",
   "metadata": {},
   "outputs": [],
   "source": [
    "import pandas as pd\n",
    "import numpy as np\n",
    "import matplotlib.pyplot as plt"
   ]
  },
  {
   "cell_type": "code",
   "execution_count": 2,
   "id": "91ad8c91",
   "metadata": {},
   "outputs": [],
   "source": [
    "n = 1000\n",
    "random_numbers = np.random.rand(n)"
   ]
  },
  {
   "cell_type": "code",
   "execution_count": 3,
   "id": "1a7daa34",
   "metadata": {},
   "outputs": [
    {
     "data": {
      "text/plain": [
       "1.7756631932852498"
      ]
     },
     "execution_count": 3,
     "metadata": {},
     "output_type": "execute_result"
    }
   ],
   "source": [
    "sharpe = random_numbers.mean() / random_numbers.std()  # assuming risk free rate is 0\n",
    "sharpe"
   ]
  },
  {
   "cell_type": "code",
   "execution_count": 4,
   "id": "3c31dec5",
   "metadata": {},
   "outputs": [],
   "source": [
    "def bootstrap(returns):\n",
    "    mask = np.random.randint(0, n, n)\n",
    "    random_sample = random_numbers[mask]\n",
    "    return random_sample\n",
    "\n",
    "def calculate_sharpe(returns):\n",
    "    return returns.mean() / returns.std()\n",
    "\n",
    "def simulate(returns, sims=10**4):\n",
    "    simulations = [round(calculate_sharpe(bootstrap(returns)), 2) for i in range(sims)]\n",
    "    \n",
    "    simulations.sort()\n",
    "    \n",
    "    return simulations"
   ]
  },
  {
   "cell_type": "code",
   "execution_count": 5,
   "id": "9b0368ea",
   "metadata": {},
   "outputs": [],
   "source": [
    "sims = simulate(random_numbers)\n",
    "\n",
    "q_2p5 = 250\n",
    "q_97p5 = 9750"
   ]
  },
  {
   "cell_type": "code",
   "execution_count": 6,
   "id": "0fa532c8",
   "metadata": {},
   "outputs": [
    {
     "name": "stdout",
     "output_type": "stream",
     "text": [
      "95% confidence interval\n",
      "1.7 1.86\n"
     ]
    }
   ],
   "source": [
    "print(\"95% confidence interval\")\n",
    "print(sims[q_2p5], sims[q_97p5])"
   ]
  },
  {
   "cell_type": "markdown",
   "id": "10256fa9",
   "metadata": {},
   "source": [
    "Lets say we have some price $P_t$. Then the return at time t is defined as $R_t := \\frac{P_t}{P_{t-1}}-1$.\n",
    "\n",
    "\n",
    "Lets take a look at $\\{R_0, ..., R_n\\}$.\n",
    "\n",
    "We also work with log returns, and the definition of a log return is: $log\\_ret_t := \\log\\left(\\frac{P_t}{P_{t-1}}\\right)$."
   ]
  },
  {
   "cell_type": "markdown",
   "id": "c522d49c",
   "metadata": {},
   "source": [
    "Here is a nice property of log returns:\n",
    "\n",
    "Using the fact that $\\log(1+t) \\approx t$ for $t<<1$.\n",
    "\n",
    "Proof: \n",
    "\n",
    "1) $\\log(1+t) = \\int_{0}^{t}{\\frac{1}{1+x}}dx$\n",
    "\n",
    "2) $\\int_{0}^{t}{\\frac{1}{1+x}}dx=\\int_{0}^{t}{\\sum_{r=0}^{\\infty}{x^r}}dx$ for $|x| < 1$\n",
    "\n",
    "3) $\\int_{0}^{t}{\\sum_{r=0}^{\\infty}{x^r}}dx = \\int_{0}^{t}{1+\\sum_{r=1}^{\\infty}{x^r}}dx$\n",
    "\n",
    "4) $\\int_{0}^{t}{1+\\sum_{r=1}^{\\infty}{x^r}}dx = t + \\int_{0}^{t}{\\sum_{r=1}^{\\infty}{x^r}dx}$\n",
    "\n",
    "5) And then for t small, $\\int_{0}^{t}{\\sum_{r=1}^{\\infty}{x^r}dx}$ is $O(t^2)$.\n",
    "\n",
    "6) $\\log(1+t) = t + O(t^2) \\approx t$\n",
    "\n",
    "Thus,\n",
    "\n",
    "$log\\_ret_t := \\log\\left(\\frac{P_t}{P_{t-1}}\\right)$=$\\log\\left(1+(\\frac{P_t}{P_{t-1}}-1)\\right) \\approx (\\frac{P_t}{P_{t-1}}-1) = R_t$, if we take $x=(\\frac{P_t}{P_{t-1}}-1)$"
   ]
  },
  {
   "cell_type": "code",
   "execution_count": null,
   "id": "708179e4",
   "metadata": {},
   "outputs": [],
   "source": []
  }
 ],
 "metadata": {
  "kernelspec": {
   "display_name": "Python 3 (ipykernel)",
   "language": "python",
   "name": "python3"
  },
  "language_info": {
   "codemirror_mode": {
    "name": "ipython",
    "version": 3
   },
   "file_extension": ".py",
   "mimetype": "text/x-python",
   "name": "python",
   "nbconvert_exporter": "python",
   "pygments_lexer": "ipython3",
   "version": "3.9.18"
  }
 },
 "nbformat": 4,
 "nbformat_minor": 5
}
